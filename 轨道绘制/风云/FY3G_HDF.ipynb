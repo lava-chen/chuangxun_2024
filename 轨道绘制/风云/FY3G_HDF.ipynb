{
 "cells": [
  {
   "cell_type": "markdown",
   "metadata": {},
   "source": [
    "# 风云3G-HDF-数据\n",
    "## HDF格式-层次化数据格式\n",
    "分层数据格式( HDF ) 是一组文件格式( HDF4、HDF5 )，旨在存储和组织大量数据。它最初由美国国家超级计算应用中心开发，由非营利性公司 HDF 集团提供支持，该集团的使命是确保 HDF5 技术的持续发展以及存储在 HDF 中的数据的持续可访问性。\n",
    "Python通过h5py（对 HDF5 抽象的高级和低级访问）和PyTables（具有高级索引和类似数据库的查询功能的高级接口）支持 HDF5。HDF4 可通过Python-HDF4和/或PyHDF获得，适用于 Python 2 和 Python 3。流行的数据处理包pandas可以通过 PyTables 从 HDF5 导入和导出。"
   ]
  },
  {
   "cell_type": "code",
   "execution_count": null,
   "metadata": {},
   "outputs": [],
   "source": [
    "import h5py\n",
    "import pandas as pd\n",
    "import numpy as np\n",
    "\n",
    "# 打开HDF文件\n",
    "with h5py.File('./test_1/FY3G_PMR--_ORBA_L2_KuR_MLT_NUL_20240617_0037_5000M_V0.HDF', 'r') as hdf:\n",
    "    data=pd.DataFrame()\n",
    "    for dataset_name, dataset in hdf['Geo_Fields'].items():\n",
    "        print(dataset.shape)\n",
    "        df_new = pd.DataFrame(dataset[:])\n",
    "        df_new.columns = [dataset_name]\n",
    "        data = pd.concat([data, df_new], axis=1)\n",
    "        print(data) \n",
    "    csv_file_path = '20240617_0037_Geo_Fields.csv'\n",
    "    data.to_csv(csv_file_path, index=False)\n",
    "    print(f'已保存为 {csv_file_path}')"
   ]
  },
  {
   "cell_type": "markdown",
   "metadata": {},
   "source": [
    "## 数据集信息\n",
    "### CSF\n",
    "1. binBBBottom_亮带底距离库\n",
    "2. binBBPeak_亮带峰值距离库\n",
    "3. binBBTop_亮带顶距离库\n",
    "4. flagBB_亮带标识\n",
    "5. flagHeavyIcePrecip_强的冰态降水标识\n",
    "6. flagShallowRain_浅雨标识\n",
    "7. heightBB_亮带高度\n",
    "8. typePrecip_降水类型\n",
    "### Geo_Fields\n",
    "1. Latitude_纬度\n",
    "   1. 纬度为南负北正\n",
    "   2. 有效值范围是-90到90度\n",
    "   3. 为每个波束分别计算了地球椭球表面（第一维）和地球椭球之上约18km高度（第二维）两个位置的纬度。\n",
    "2. Longitude_经度\n",
    "   1. 经度为西负东正\n",
    "3. DayOfMonth_当月日计数\n",
    "4. DayOfYear_当年日计数\n",
    "5. Hour_小时计数\n",
    "6. MilliSecond_毫秒\n",
    "7. Minute_分钟\n",
    "8. Month_月份\n",
    "9.  Second_秒\n",
    "10. SecondOfDay_当天的秒数\n",
    "11. Year_年\n",
    "12. SatFlag_卫星平台飞行机动状态标识\n",
    "    1.  0卫星正飞；\n",
    "    2.  1卫星正飞下自动偏航中；\n",
    "    3.  2卫星正飞下横滚机动中；\n",
    "    4.  3卫星正飞下俯仰机动中；\n",
    "    5.  4卫星正飞下偏航90°机动中；\n",
    "    6.  5卫星正飞下机动返回中；\n",
    "    7.  6卫星正飞下轨控中；\n",
    "    8.  7卫星正飞下滚动机动到位；\n",
    "    9.  8卫星正飞下俯仰机动到位；\n",
    "    10. 9卫星正飞下偏航90°机动到位；\n",
    "    11. 10卫星正飞下未知机动状态；\n",
    "    12. 20卫星倒飞；\n",
    "    13. 21卫星倒飞下自动\n",
    "    14. 22卫星倒飞下横滚机动中；\n",
    "    15. 23卫星倒飞下俯仰机动中；\n",
    "    16. 24卫星倒飞下偏航90°机动中；\n",
    "    17. 25卫星倒飞下机动返回中；\n",
    "    18. 26卫星倒飞下轨控中；\n",
    "    19. 27卫星倒飞下滚动机动到位；\n",
    "    20. 28卫星倒飞下俯仰机动到位；\n",
    "    21. 29卫星倒飞下偏航90°机动到位；\n",
    "    22. 30卫星倒飞下未知机动状态；\n",
    "    23. -88 卫星俯仰角或偏航角超出阈值；\n",
    "    24. -99填充值"
   ]
  }
 ],
 "metadata": {
  "kernelspec": {
   "display_name": "Python 3",
   "language": "python",
   "name": "python3"
  },
  "language_info": {
   "codemirror_mode": {
    "name": "ipython",
    "version": 3
   },
   "file_extension": ".py",
   "mimetype": "text/x-python",
   "name": "python",
   "nbconvert_exporter": "python",
   "pygments_lexer": "ipython3",
   "version": "3.11.4"
  }
 },
 "nbformat": 4,
 "nbformat_minor": 2
}
