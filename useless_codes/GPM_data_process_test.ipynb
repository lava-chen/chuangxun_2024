{
 "cells": [
  {
   "cell_type": "code",
   "execution_count": 8,
   "metadata": {},
   "outputs": [
    {
     "name": "stdout",
     "output_type": "stream",
     "text": [
      "<class 'netCDF4._netCDF4.Dataset'>\n",
      "(1075, 49)\n",
      "[52.577168 52.53965  52.502167 52.465168 52.42851  52.39217  52.355892\n",
      " 52.319733 52.28373  52.24822  52.212543 52.17723  52.142147 52.10711\n",
      " 52.072174 52.037453 52.002815 51.968243 51.933758 51.899292 51.864864\n",
      " 51.83067  51.796326 51.762173 51.728077 51.69375  51.65929  51.625217\n",
      " 51.590828 51.556465 51.522118 51.487656 51.453167 51.41868  51.383755\n",
      " 51.349007 51.313885 51.278843 51.243504 51.208244 51.172707 51.13673\n",
      " 51.100647 51.064667 51.028023 50.991383 50.95461  50.91706  50.879444]\n"
     ]
    }
   ],
   "source": [
    "import pandas as pd\n",
    "import netCDF4 as nc\n",
    "\n",
    "tem_data = nc.Dataset('/Users/chenxuanyu/Documents/GitHub/chuangxun_2024/useless_codes/temp_data/2A.GPM.DPR.V9-20240130.20240617-S011648-E025000.058507.V07C_subsetted.nc4')\n",
    "\n",
    "print(type(tem_data))\n",
    "print((tem_data['FS']['Latitude'].shape))\n",
    "print((tem_data['FS']['Latitude'][100]))"
   ]
  }
 ],
 "metadata": {
  "kernelspec": {
   "display_name": "Python 3",
   "language": "python",
   "name": "python3"
  },
  "language_info": {
   "codemirror_mode": {
    "name": "ipython",
    "version": 3
   },
   "file_extension": ".py",
   "mimetype": "text/x-python",
   "name": "python",
   "nbconvert_exporter": "python",
   "pygments_lexer": "ipython3",
   "version": "3.11.4"
  }
 },
 "nbformat": 4,
 "nbformat_minor": 2
}
